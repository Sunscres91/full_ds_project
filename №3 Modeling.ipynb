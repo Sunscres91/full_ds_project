{
 "cells": [
  {
   "cell_type": "code",
   "execution_count": 1,
   "metadata": {},
   "outputs": [],
   "source": [
    "import numpy as np\n",
    "import pandas as pd\n",
    "import matplotlib.pyplot as plt\n",
    "import seaborn as sns\n",
    "from sklearn.model_selection import train_test_split\n",
    "from sklearn.metrics import mean_absolute_error\n",
    "from sklearn.metrics import mean_squared_error\n",
    "from sklearn.dummy import DummyRegressor\n",
    "from sklearn.model_selection import GridSearchCV\n",
    "pd.options.display.max_rows = 999\n",
    "pd.options.display.max_columns = 999"
   ]
  },
  {
   "cell_type": "code",
   "execution_count": 2,
   "metadata": {},
   "outputs": [],
   "source": [
    "ordinal = pd.read_csv('ordinal.csv')\n",
    "drop = pd.read_csv('drop.csv')\n",
    "full = pd.read_csv('full.csv')"
   ]
  },
  {
   "cell_type": "code",
   "execution_count": 3,
   "metadata": {},
   "outputs": [],
   "source": [
    "ordinal_X = ordinal.drop(columns=['SalePrice'])\n",
    "ordinal_y = ordinal['SalePrice']\n",
    "drop_X = drop.drop(columns=['SalePrice'])\n",
    "drop_y = drop['SalePrice']\n",
    "full_X = full.drop(columns=['SalePrice'])\n",
    "full_y = full['SalePrice']"
   ]
  },
  {
   "cell_type": "markdown",
   "metadata": {},
   "source": [
    "### Split the data into Training and Testing Datasets"
   ]
  },
  {
   "cell_type": "code",
   "execution_count": 4,
   "metadata": {},
   "outputs": [],
   "source": [
    "ordinal_train_X,ordinal_test_x,ordinal_train_y,ordinal_test_y = train_test_split(ordinal_X,ordinal_y,test_size=0.1,random_state=21)\n",
    "drop_train_X,drop_test_x, drop_train_y,drop_test_y = train_test_split(drop_X,drop_y,test_size=0.1,random_state=21)\n",
    "full_train_X,full_test_x,full_train_y,full_test_y = train_test_split(full_X,full_y,test_size=0.1,random_state=21)"
   ]
  },
  {
   "cell_type": "markdown",
   "metadata": {},
   "source": [
    "### Test if the datasets are divided in the same way"
   ]
  },
  {
   "cell_type": "code",
   "execution_count": 5,
   "metadata": {},
   "outputs": [
    {
     "data": {
      "text/plain": [
       "True"
      ]
     },
     "execution_count": 5,
     "metadata": {},
     "output_type": "execute_result"
    }
   ],
   "source": [
    "(drop_test_y.mean() == full_test_y.mean())"
   ]
  },
  {
   "cell_type": "markdown",
   "metadata": {},
   "source": [
    "### See if the samples for the Training and the Test set have similar propoerties and are aproptiate to use"
   ]
  },
  {
   "cell_type": "code",
   "execution_count": 6,
   "metadata": {},
   "outputs": [
    {
     "name": "stdout",
     "output_type": "stream",
     "text": [
      "Mean Sale Price for Training set:  180429.93531202435\n",
      "STD for Sale Price for Training set:  78279.75091005577\n"
     ]
    },
    {
     "data": {
      "text/plain": [
       "Text(0.5, 1.0, 'Distribution of Prices for Training Set')"
      ]
     },
     "execution_count": 6,
     "metadata": {},
     "output_type": "execute_result"
    },
    {
     "data": {
      "image/png": "[encoded data removed]",
      "text/plain": [
       "<Figure size 432x288 with 1 Axes>"
      ]
     },
     "metadata": {
      "needs_background": "light"
     },
     "output_type": "display_data"
    }
   ],
   "source": [
    "ordinal_train_y.plot(kind='hist',color='blue');\n",
    "print('Mean Sale Price for Training set: ', ordinal_train_y.mean())\n",
    "print('STD for Sale Price for Training set: ', ordinal_train_y.std())\n",
    "plt.title('Distribution of Prices for Training Set');\n"
   ]
  },
  {
   "cell_type": "code",
   "execution_count": 7,
   "metadata": {},
   "outputs": [
    {
     "name": "stdout",
     "output_type": "stream",
     "text": [
      "Mean Sale Price for Test set:  185342.54109589042\n",
      "STD for Sale Price for Test set:  89405.87774684896\n"
     ]
    },
    {
     "data": {
      "text/plain": [
       "Text(0.5, 1.0, 'Distribution of Prices for Test Set')"
      ]
     },
     "execution_count": 7,
     "metadata": {},
     "output_type": "execute_result"
    },
    {
     "data": {
      "image/png": "[encoded data removed]",
      "text/plain": [
       "<Figure size 432x288 with 1 Axes>"
      ]
     },
     "metadata": {
      "needs_background": "light"
     },
     "output_type": "display_data"
    }
   ],
   "source": [
    "ordinal_test_y.plot(kind='hist',color='darkblue');\n",
    "print('Mean Sale Price for Test set: ', ordinal_test_y.mean())\n",
    "print('STD for Sale Price for Test set: ', ordinal_test_y.std())\n",
    "plt.title('Distribution of Prices for Test Set');\n"
   ]
  },
  {
   "cell_type": "code",
   "execution_count": 8,
   "metadata": {},
   "outputs": [
    {
     "name": "stdout",
     "output_type": "stream",
     "text": [
      "KstestResult(statistic=0.060882800608828, pvalue=0.6963386570310459)\n"
     ]
    },
    {
     "data": {
      "text/plain": [
       "Ttest_indResult(statistic=0.7087328990517826, pvalue=0.4786035454077411)"
      ]
     },
     "execution_count": 8,
     "metadata": {},
     "output_type": "execute_result"
    }
   ],
   "source": [
    "from scipy.stats import ks_2samp\n",
    "from scipy import stats\n",
    "print(ks_2samp(ordinal_test_y,ordinal_train_y))\n",
    "stats.ttest_ind(ordinal_test_y,ordinal_train_y)"
   ]
  },
  {
   "cell_type": "markdown",
   "metadata": {},
   "source": [
    "### Dummy Regressor with Mean and Median"
   ]
  },
  {
   "cell_type": "code",
   "execution_count": 9,
   "metadata": {},
   "outputs": [
    {
     "name": "stdout",
     "output_type": "stream",
     "text": [
      "Mean for Training Sample:  180429.94\n",
      "STD for Training Sample:  78279.75\n",
      "Squared Error with Mean Predictor is:  6123055993.56\n",
      "Absolute Error with Mean Predictor is:  57055.5\n",
      "Squared Error with Median Predictor is:  6428604132.07\n",
      "Absolute Error with Median Predictor is:  55285.91\n"
     ]
    }
   ],
   "source": [
    "dumreg = DummyRegressor(strategy='mean')\n",
    "dumreg_median = DummyRegressor(strategy='median')\n",
    "dumreg.fit(ordinal_train_X,ordinal_train_y)\n",
    "dumreg_median.fit(ordinal_train_X,ordinal_train_y)\n",
    "pred_dummy = dumreg.predict(ordinal_train_X)\n",
    "pred_dummy_median = dumreg_median.predict(ordinal_train_X)\n",
    "print('Mean for Training Sample: ',round(ordinal_train_y.mean(),2))\n",
    "print('STD for Training Sample: ',round(ordinal_train_y.std(),2))\n",
    "print('Squared Error with Mean Predictor is: ', round(mean_squared_error(pred_dummy,ordinal_train_y),2))\n",
    "print('Absolute Error with Mean Predictor is: ', round(mean_absolute_error(pred_dummy,ordinal_train_y),2))\n",
    "print('Squared Error with Median Predictor is: ', round(mean_squared_error(pred_dummy_median,ordinal_train_y),2))\n",
    "print('Absolute Error with Median Predictor is: ', round(mean_absolute_error(pred_dummy_median,ordinal_train_y),2))"
   ]
  },
  {
   "cell_type": "markdown",
   "metadata": {},
   "source": [
    "### We will test SGD on the Ordinal and Full Dataset \n",
    "\n",
    "#### SGD withouth parameter tuning"
   ]
  },
  {
   "cell_type": "code",
   "execution_count": 10,
   "metadata": {},
   "outputs": [],
   "source": [
    "from sklearn.linear_model import SGDRegressor\n",
    "from sklearn.model_selection import cross_val_score\n",
    "linreg = SGDRegressor()\n",
    "scores_ordinal = cross_val_score(linreg, ordinal_train_X,ordinal_train_y,scoring='neg_mean_squared_error',cv=10)\n",
    "scores_drop = cross_val_score(linreg, drop_train_X,drop_train_y,scoring='neg_mean_squared_error',cv=10)\n",
    "scores_full = cross_val_score(linreg, full_train_X,full_train_y,scoring='neg_mean_squared_error',cv=10)"
   ]
  },
  {
   "cell_type": "code",
   "execution_count": 11,
   "metadata": {},
   "outputs": [
    {
     "name": "stdout",
     "output_type": "stream",
     "text": [
      "Average Prediction Mistake for Ordinal Dataset:  35275.94\n",
      "Average Prediction Mistake for Drop Dataset:  34539.34\n",
      "Average Prediction Mistake for Full Dataset:  35108.36\n"
     ]
    }
   ],
   "source": [
    "print('Average Prediction Mistake for Ordinal Dataset: ', round(np.sqrt(-scores_ordinal.mean()),2))\n",
    "print('Average Prediction Mistake for Drop Dataset: ', round(np.sqrt(-scores_drop.mean()),2))\n",
    "print('Average Prediction Mistake for Full Dataset: ', round(np.sqrt(-scores_full.mean()),2))"
   ]
  },
  {
   "cell_type": "code",
   "execution_count": 100,
   "metadata": {},
   "outputs": [
    {
     "name": "stdout",
     "output_type": "stream",
     "text": [
      "34435.865084007695 {'alpha': 0.01, 'penalty': 'l1'}\n",
      "34051.71320925704 {'alpha': 0.01, 'penalty': 'l2'}\n",
      "34449.54041864513 {'alpha': 5.564444444444445, 'penalty': 'l1'}\n",
      "47354.09354867418 {'alpha': 5.564444444444445, 'penalty': 'l2'}\n",
      "34346.69026047618 {'alpha': 11.11888888888889, 'penalty': 'l1'}\n",
      "53541.02743705322 {'alpha': 11.11888888888889, 'penalty': 'l2'}\n",
      "34796.49048842467 {'alpha': 16.673333333333336, 'penalty': 'l1'}\n",
      "60969.13037591901 {'alpha': 16.673333333333336, 'penalty': 'l2'}\n",
      "34477.23713647306 {'alpha': 22.22777777777778, 'penalty': 'l1'}\n",
      "61618.53754260258 {'alpha': 22.22777777777778, 'penalty': 'l2'}\n",
      "35518.43731360886 {'alpha': 27.782222222222227, 'penalty': 'l1'}\n",
      "65857.07787808785 {'alpha': 27.782222222222227, 'penalty': 'l2'}\n",
      "33958.647351401996 {'alpha': 33.336666666666666, 'penalty': 'l1'}\n",
      "67195.2895683994 {'alpha': 33.336666666666666, 'penalty': 'l2'}\n",
      "34201.2868527147 {'alpha': 38.891111111111115, 'penalty': 'l1'}\n",
      "68723.6997116538 {'alpha': 38.891111111111115, 'penalty': 'l2'}\n",
      "34694.249369303034 {'alpha': 44.44555555555556, 'penalty': 'l1'}\n",
      "69150.05587862818 {'alpha': 44.44555555555556, 'penalty': 'l2'}\n",
      "34197.97271273322 {'alpha': 50.0, 'penalty': 'l1'}\n",
      "70544.9910816635 {'alpha': 50.0, 'penalty': 'l2'}\n"
     ]
    }
   ],
   "source": [
    "from sklearn.model_selection import GridSearchCV\n",
    "parameters = {'penalty': ('l1','l2'), 'alpha': np.linspace(0.01,5,10)}\n",
    "sgd = SGDRegressor(loss='squared_loss')\n",
    "gridsearch = GridSearchCV(sgd,parameters,cv=10,scoring='neg_mean_squared_error')\n",
    "gridsearch.fit(drop_train_X,drop_train_y)\n",
    "\n",
    "cvres = gridsearch.cv_results_\n",
    "for mean_score, params in zip(cvres[\"mean_test_score\"], cvres[\"params\"]):\n",
    "    print(np.sqrt(-mean_score), params)"
   ]
  },
  {
   "cell_type": "markdown",
   "metadata": {},
   "source": [
    "##### After several tests \"Drop\" dataset seems to be working best and L1 regularization with minimal value for alpha gives us the best results"
   ]
  },
  {
   "cell_type": "code",
   "execution_count": 62,
   "metadata": {},
   "outputs": [
    {
     "name": "stdout",
     "output_type": "stream",
     "text": [
      "Average Prediction Mistake for Ordinal Dataset:  34109.0\n"
     ]
    }
   ],
   "source": [
    "sgd = SGDRegressor(penalty='l1', alpha=0.05,loss='squared_loss')\n",
    "scores_optimal = cross_val_score(sgd, drop_train_X,drop_train_y,scoring='neg_mean_squared_error',cv=10)\n",
    "print('Average Prediction Mistake for Ordinal Dataset: ', round(np.sqrt(-scores_optimal.mean()),2))"
   ]
  },
  {
   "cell_type": "code",
   "execution_count": 40,
   "metadata": {},
   "outputs": [],
   "source": [
    "model = sgd.fit(drop_train_X,drop_train_y)\n",
    "sgd_coef_df = pd.DataFrame(data=model.coef_,index=drop.columns[:-1],columns=['Model Coefs'])"
   ]
  },
  {
   "cell_type": "code",
   "execution_count": 56,
   "metadata": {},
   "outputs": [
    {
     "data": {
      "image/png": "[encoded data removed]",
      "text/plain": [
       "<Figure size 864x432 with 1 Axes>"
      ]
     },
     "metadata": {
      "needs_background": "light"
     },
     "output_type": "display_data"
    }
   ],
   "source": [
    "plt.figure(figsize=(12,6))\n",
    "plt.title('Coeficents with the most negative influence on Sale Price',fontsize=14)\n",
    "sgd_coef_df['Model Coefs'].sort_values()[0:20].plot(kind='bar');\n",
    "plt.xticks(rotation=45);"
   ]
  },
  {
   "cell_type": "code",
   "execution_count": 55,
   "metadata": {},
   "outputs": [
    {
     "data": {
      "image/png": "[encoded data removed]",
      "text/plain": [
       "<Figure size 864x432 with 1 Axes>"
      ]
     },
     "metadata": {
      "needs_background": "light"
     },
     "output_type": "display_data"
    }
   ],
   "source": [
    "plt.figure(figsize=(12,6))\n",
    "plt.title('Coeficents with the most negative influence on Sale Price',fontsize=14)\n",
    "sgd_coef_df['Model Coefs'].sort_values(ascending=False)[0:20].plot(kind='bar');\n",
    "plt.xticks(rotation=45);"
   ]
  },
  {
   "cell_type": "markdown",
   "metadata": {},
   "source": [
    "### The optimzed CV SGD result is around 34000 RMSE"
   ]
  },
  {
   "cell_type": "markdown",
   "metadata": {},
   "source": [
    "## Support Vector Regressor"
   ]
  },
  {
   "cell_type": "code",
   "execution_count": 67,
   "metadata": {},
   "outputs": [
    {
     "name": "stdout",
     "output_type": "stream",
     "text": [
      "Average Prediction Mistake for Ordinal Dataset:  80303.15\n"
     ]
    }
   ],
   "source": [
    "from sklearn.svm import SVR\n",
    "svr = SVR()\n",
    "scores_optimal = cross_val_score(svr, ordinal_train_X,ordinal_train_y,scoring='neg_mean_squared_error',cv=10)\n",
    "print('Average Prediction Mistake for Ordinal Dataset: ', round(np.sqrt(-scores_optimal.mean()),2))"
   ]
  },
  {
   "cell_type": "code",
   "execution_count": 68,
   "metadata": {},
   "outputs": [
    {
     "name": "stdout",
     "output_type": "stream",
     "text": [
      "35841.678237633976 {'C': 50, 'kernel': 'linear'}\n",
      "77673.40803228777 {'C': 50, 'kernel': 'poly'}\n",
      "78139.91899715693 {'C': 50, 'kernel': 'rbf'}\n",
      "76481.45528551236 {'C': 50, 'kernel': 'sigmoid'}\n",
      "33737.665433199974 {'C': 100, 'kernel': 'linear'}\n",
      "75325.31081928621 {'C': 100, 'kernel': 'poly'}\n",
      "75975.98133014805 {'C': 100, 'kernel': 'rbf'}\n",
      "72865.18902444017 {'C': 100, 'kernel': 'sigmoid'}\n",
      "32542.856103974143 {'C': 200, 'kernel': 'linear'}\n",
      "70762.79312841156 {'C': 200, 'kernel': 'poly'}\n",
      "72054.7721674714 {'C': 200, 'kernel': 'rbf'}\n",
      "66210.9283288169 {'C': 200, 'kernel': 'sigmoid'}\n"
     ]
    }
   ],
   "source": [
    "#parameters = {'kernel': ('linear','poly','rbf','sigmoid'), 'C': [50,100,200]}\n",
    "#gridsearch = GridSearchCV(svr,parameters,cv=10,scoring='neg_mean_squared_error')\n",
    "#gridsearch.fit(full_train_X,full_train_y)\n",
    "\n",
    "#cvres = gridsearch.cv_results_\n",
    "#for mean_score, params in zip(cvres[\"mean_test_score\"], cvres[\"params\"]):\n",
    "#    print(np.sqrt(-mean_score), params)"
   ]
  },
  {
   "cell_type": "code",
   "execution_count": 74,
   "metadata": {},
   "outputs": [
    {
     "name": "stdout",
     "output_type": "stream",
     "text": [
      "30209.113779807813 {'C': 100000.0}\n",
      "30092.935081724918 {'C': 112500.0}\n",
      "30008.92400062759 {'C': 125000.0}\n",
      "29957.919654070785 {'C': 137500.0}\n",
      "29927.41760202328 {'C': 150000.0}\n"
     ]
    }
   ],
   "source": [
    "svr = SVR(kernel='rbf')\n",
    "parameters = {'C': np.linspace(100000,150000,5)}\n",
    "gridsearch = GridSearchCV(svr,parameters,cv=10,scoring='neg_mean_squared_error')\n",
    "gridsearch.fit(full_train_X,full_train_y)\n",
    "\n",
    "cvres = gridsearch.cv_results_\n",
    "for mean_score, params in zip(cvres[\"mean_test_score\"], cvres[\"params\"]):\n",
    "    print(np.sqrt(-mean_score), params)"
   ]
  },
  {
   "cell_type": "code",
   "execution_count": 95,
   "metadata": {},
   "outputs": [
    {
     "name": "stdout",
     "output_type": "stream",
     "text": [
      "Average Prediction Mistake for Ordinal Dataset:  31523.33\n"
     ]
    }
   ],
   "source": [
    "from sklearn.svm import SVR\n",
    "svr = SVR(kernel='linear', C=1500)\n",
    "scores_optimal = cross_val_score(svr, full_train_X,full_train_y,scoring='neg_mean_squared_error',cv=10)\n",
    "print('Average Prediction Mistake for Ordinal Dataset: ', round(np.sqrt(-scores_optimal.mean()),2))"
   ]
  },
  {
   "cell_type": "code",
   "execution_count": 79,
   "metadata": {},
   "outputs": [
    {
     "name": "stdout",
     "output_type": "stream",
     "text": [
      "Average Prediction Mistake for Ordinal Dataset:  33175.83\n"
     ]
    }
   ],
   "source": [
    "from sklearn.svm import SVR\n",
    "svr = SVR(kernel='poly', C=150000)\n",
    "scores_optimal = cross_val_score(svr, full_train_X,full_train_y,scoring='neg_mean_squared_error',cv=10)\n",
    "print('Average Prediction Mistake for Ordinal Dataset: ', round(np.sqrt(-scores_optimal.mean()),2))"
   ]
  },
  {
   "cell_type": "code",
   "execution_count": 80,
   "metadata": {},
   "outputs": [],
   "source": [
    "svr = SVR(kernel='linear', C=1500)\n",
    "model = svr.fit(full_train_X,full_train_y)"
   ]
  },
  {
   "cell_type": "code",
   "execution_count": 91,
   "metadata": {},
   "outputs": [],
   "source": [
    "svr_coef_df = pd.DataFrame(data=model.coef_.T,index=full.columns[:-1],columns=['Model Coefs'])"
   ]
  },
  {
   "cell_type": "code",
   "execution_count": 92,
   "metadata": {},
   "outputs": [
    {
     "data": {
      "image/png": "[encoded data removed]",
      "text/plain": [
       "<Figure size 864x432 with 1 Axes>"
      ]
     },
     "metadata": {
      "needs_background": "light"
     },
     "output_type": "display_data"
    }
   ],
   "source": [
    "plt.figure(figsize=(12,6))\n",
    "plt.title('Coeficents with the most negative influence on Sale Price',fontsize=14)\n",
    "svr_coef_df['Model Coefs'].sort_values()[0:20].plot(kind='bar');\n",
    "plt.xticks(rotation=45);"
   ]
  },
  {
   "cell_type": "code",
   "execution_count": 93,
   "metadata": {},
   "outputs": [
    {
     "data": {
      "image/png": "[encoded data removed]",
      "text/plain": [
       "<Figure size 864x432 with 1 Axes>"
      ]
     },
     "metadata": {
      "needs_background": "light"
     },
     "output_type": "display_data"
    }
   ],
   "source": [
    "plt.figure(figsize=(12,6))\n",
    "plt.title('Coeficents with the most negative influence on Sale Price',fontsize=14)\n",
    "svr_coef_df['Model Coefs'].sort_values(ascending=False)[0:20].plot(kind='bar');\n",
    "plt.xticks(rotation=45);"
   ]
  },
  {
   "cell_type": "markdown",
   "metadata": {},
   "source": [
    "### The optimzed CV SVR result is around 31500 RMSE"
   ]
  },
  {
   "cell_type": "markdown",
   "metadata": {},
   "source": [
    "## Decision Trees\n"
   ]
  },
  {
   "cell_type": "code",
   "execution_count": 18,
   "metadata": {},
   "outputs": [
    {
     "name": "stdout",
     "output_type": "stream",
     "text": [
      "Average Prediction Mistake for Ordinal Dataset:  39071.51\n"
     ]
    }
   ],
   "source": [
    "from sklearn.tree import DecisionTreeRegressor\n",
    "tree_reg = DecisionTreeRegressor()\n",
    "scores_optimal = cross_val_score(tree_reg, full_train_X,full_train_y,scoring='neg_mean_squared_error',cv=10)\n",
    "print('Average Prediction Mistake for Ordinal Dataset: ', round(np.sqrt(-scores_optimal.mean()),2))"
   ]
  },
  {
   "cell_type": "code",
   "execution_count": 19,
   "metadata": {},
   "outputs": [],
   "source": [
    "#from sklearn.tree import DecisionTreeRegressor\n",
    "#tree_reg = DecisionTreeRegressor()\n",
    "#parameters = {'max_depth': np.linspace(10,100,10),'min_samples_split': [20,40,60,100],'min_samples_leaf': [6,12,18,14],'max_features': ('auto','sqrt','log2')}\n",
    "#gridsearch = GridSearchCV(tree_reg,parameters,cv=10,scoring='neg_mean_squared_error')\n",
    "#gridsearch.fit(full_train_X,full_train_y)\n",
    "\n",
    "#cvres = gridsearch.cv_results_\n",
    "#for mean_score, params in zip(cvres[\"mean_test_score\"], cvres[\"params\"]):\n",
    "#    print(np.sqrt(-mean_score), params)"
   ]
  },
  {
   "cell_type": "code",
   "execution_count": 20,
   "metadata": {},
   "outputs": [],
   "source": [
    "#from sklearn.tree import DecisionTreeRegressor\n",
    "#tree_reg = DecisionTreeRegressor(max_depth=80)\n",
    "#parameters = {'min_samples_split': [4,12,16,20],'min_samples_leaf': [18,24,36]}\n",
    "#gridsearch = GridSearchCV(tree_reg,parameters,cv=10,scoring='neg_mean_squared_error')\n",
    "#gridsearch.fit(full_train_X,full_train_y)\n",
    "\n",
    "#cvres = gridsearch.cv_results_\n",
    "#for mean_score, params in zip(cvres[\"mean_test_score\"], cvres[\"params\"]):\n",
    "#    print(np.sqrt(-mean_score), params)"
   ]
  },
  {
   "cell_type": "code",
   "execution_count": 96,
   "metadata": {},
   "outputs": [
    {
     "name": "stdout",
     "output_type": "stream",
     "text": [
      "Average Prediction Mistake for Ordinal Dataset:  36734.23\n"
     ]
    }
   ],
   "source": [
    "from sklearn.tree import DecisionTreeRegressor\n",
    "tree_reg = DecisionTreeRegressor(max_depth=80,min_samples_leaf=24)\n",
    "scores_optimal = cross_val_score(tree_reg, full_train_X,full_train_y,scoring='neg_mean_squared_error',cv=10)\n",
    "print('Average Prediction Mistake for Ordinal Dataset: ', round(np.sqrt(-scores_optimal.mean()),2))"
   ]
  },
  {
   "cell_type": "code",
   "execution_count": 97,
   "metadata": {},
   "outputs": [
    {
     "name": "stdout",
     "output_type": "stream",
     "text": [
      "Average Prediction Mistake for Ordinal Dataset:  30757.38\n"
     ]
    }
   ],
   "source": [
    "from sklearn.ensemble import RandomForestRegressor\n",
    "forest_reg = RandomForestRegressor()\n",
    "scores_optimal = cross_val_score(forest_reg, full_train_X,full_train_y,scoring='neg_mean_squared_error',cv=10)\n",
    "print('Average Prediction Mistake for Ordinal Dataset: ', round(np.sqrt(-scores_optimal.mean()),2))"
   ]
  },
  {
   "cell_type": "code",
   "execution_count": 23,
   "metadata": {},
   "outputs": [],
   "source": [
    "#parameters = {'min_samples_split': [2,6,12],'min_samples_leaf': [6,12,18],'n_estimators': [50,100,200]}\n",
    "#gridsearch = GridSearchCV(forest_reg,parameters,cv=10,scoring='neg_mean_squared_error')\n",
    "#gridsearch.fit(full_train_X,full_train_y)\n",
    "\n",
    "#cvres = gridsearch.cv_results_\n",
    "#for mean_score, params in zip(cvres[\"mean_test_score\"], cvres[\"params\"]):\n",
    "#    print(np.sqrt(-mean_score), params)"
   ]
  },
  {
   "cell_type": "code",
   "execution_count": 99,
   "metadata": {},
   "outputs": [
    {
     "name": "stdout",
     "output_type": "stream",
     "text": [
      "Average Prediction Mistake for Ordinal Dataset:  31176.99\n"
     ]
    }
   ],
   "source": [
    "from sklearn.ensemble import RandomForestRegressor\n",
    "forest_reg = RandomForestRegressor(min_samples_leaf=6,min_samples_split=2)\n",
    "scores_optimal = cross_val_score(forest_reg, full_train_X,full_train_y,scoring='neg_mean_squared_error',cv=10)\n",
    "print('Average Prediction Mistake for Ordinal Dataset: ', round(np.sqrt(-scores_optimal.mean()),2))"
   ]
  },
  {
   "cell_type": "markdown",
   "metadata": {},
   "source": [
    "### GradientBoostingRegressor"
   ]
  },
  {
   "cell_type": "code",
   "execution_count": 104,
   "metadata": {},
   "outputs": [
    {
     "name": "stdout",
     "output_type": "stream",
     "text": [
      "Average Prediction Mistake for Ordinal Dataset:  26585.18\n"
     ]
    }
   ],
   "source": [
    "from sklearn.ensemble import GradientBoostingRegressor \n",
    "gbrt = GradientBoostingRegressor(max_depth=2, n_estimators=300, learning_rate=0.1)\n",
    "scores_optimal = cross_val_score(gbrt, full_train_X,full_train_y,scoring='neg_mean_squared_error',cv=10)\n",
    "print('Average Prediction Mistake for Ordinal Dataset: ', round(np.sqrt(-scores_optimal.mean()),2))"
   ]
  },
  {
   "cell_type": "code",
   "execution_count": 118,
   "metadata": {},
   "outputs": [
    {
     "name": "stdout",
     "output_type": "stream",
     "text": [
      "35318.960041073915 {'n_estimators': 20}\n",
      "32202.522371700084 {'n_estimators': 30}\n",
      "30343.027844961667 {'n_estimators': 40}\n",
      "29229.563690350362 {'n_estimators': 50}\n",
      "28359.002204510194 {'n_estimators': 60}\n",
      "27562.279855045985 {'n_estimators': 70}\n",
      "28568.63372251897 {'n_estimators': 80}\n"
     ]
    }
   ],
   "source": [
    "gbrt = GradientBoostingRegressor(min_samples_split=8,min_samples_leaf=3,max_depth=5,max_features='sqrt',subsample=0.8)\n",
    "parameters = {'n_estimators': range(20,81,10)}\n",
    "gridsearch = GridSearchCV(gbrt,parameters,cv=10,scoring='neg_mean_squared_error',n_jobs=-1)\n",
    "gridsearch.fit(full_train_X,full_train_y)\n",
    "\n",
    "cvres = gridsearch.cv_results_\n",
    "for mean_score, params in zip(cvres[\"mean_test_score\"], cvres[\"params\"]):\n",
    "    print(np.sqrt(-mean_score), params)"
   ]
  },
  {
   "cell_type": "code",
   "execution_count": 120,
   "metadata": {},
   "outputs": [
    {
     "name": "stdout",
     "output_type": "stream",
     "text": [
      "32707.135901621645 {'max_depth': 2, 'min_samples_split': 3}\n",
      "32898.45004447304 {'max_depth': 2, 'min_samples_split': 6}\n",
      "32278.73350529271 {'max_depth': 2, 'min_samples_split': 9}\n",
      "32774.44860687508 {'max_depth': 2, 'min_samples_split': 12}\n",
      "31491.020738102463 {'max_depth': 2, 'min_samples_split': 15}\n",
      "31643.159843992842 {'max_depth': 2, 'min_samples_split': 18}\n",
      "32386.732938165558 {'max_depth': 2, 'min_samples_split': 21}\n",
      "31627.56897378494 {'max_depth': 2, 'min_samples_split': 24}\n",
      "31149.07876783992 {'max_depth': 2, 'min_samples_split': 27}\n",
      "29069.110547693843 {'max_depth': 4, 'min_samples_split': 3}\n",
      "29268.951020465567 {'max_depth': 4, 'min_samples_split': 6}\n",
      "28924.413680777798 {'max_depth': 4, 'min_samples_split': 9}\n",
      "29287.78597668663 {'max_depth': 4, 'min_samples_split': 12}\n",
      "28985.00851051281 {'max_depth': 4, 'min_samples_split': 15}\n",
      "30459.161642505358 {'max_depth': 4, 'min_samples_split': 18}\n",
      "28747.87072696284 {'max_depth': 4, 'min_samples_split': 21}\n",
      "29937.666720196885 {'max_depth': 4, 'min_samples_split': 24}\n",
      "28895.451767457376 {'max_depth': 4, 'min_samples_split': 27}\n",
      "28414.515606726916 {'max_depth': 6, 'min_samples_split': 3}\n",
      "27941.381590725898 {'max_depth': 6, 'min_samples_split': 6}\n",
      "27995.71358966667 {'max_depth': 6, 'min_samples_split': 9}\n",
      "28110.528171212423 {'max_depth': 6, 'min_samples_split': 12}\n",
      "28774.282403333204 {'max_depth': 6, 'min_samples_split': 15}\n",
      "27581.91541554963 {'max_depth': 6, 'min_samples_split': 18}\n",
      "26968.123248591433 {'max_depth': 6, 'min_samples_split': 21}\n",
      "28393.33140216852 {'max_depth': 6, 'min_samples_split': 24}\n",
      "27078.460247301162 {'max_depth': 6, 'min_samples_split': 27}\n",
      "30375.562974505054 {'max_depth': 8, 'min_samples_split': 3}\n",
      "29950.914701421436 {'max_depth': 8, 'min_samples_split': 6}\n",
      "28973.25374665996 {'max_depth': 8, 'min_samples_split': 9}\n",
      "28742.79675237848 {'max_depth': 8, 'min_samples_split': 12}\n",
      "28935.89223428441 {'max_depth': 8, 'min_samples_split': 15}\n",
      "27930.118763936513 {'max_depth': 8, 'min_samples_split': 18}\n",
      "28549.859141404337 {'max_depth': 8, 'min_samples_split': 21}\n",
      "28972.92728392787 {'max_depth': 8, 'min_samples_split': 24}\n",
      "28251.825528716257 {'max_depth': 8, 'min_samples_split': 27}\n",
      "29727.25504448425 {'max_depth': 10, 'min_samples_split': 3}\n",
      "29583.987509715178 {'max_depth': 10, 'min_samples_split': 6}\n",
      "30285.920974371198 {'max_depth': 10, 'min_samples_split': 9}\n",
      "29096.206451070797 {'max_depth': 10, 'min_samples_split': 12}\n",
      "28796.847338981537 {'max_depth': 10, 'min_samples_split': 15}\n",
      "28276.911829025506 {'max_depth': 10, 'min_samples_split': 18}\n",
      "28392.32395757915 {'max_depth': 10, 'min_samples_split': 21}\n",
      "28768.998746865283 {'max_depth': 10, 'min_samples_split': 24}\n",
      "28440.50381891127 {'max_depth': 10, 'min_samples_split': 27}\n",
      "30519.911099362183 {'max_depth': 12, 'min_samples_split': 3}\n",
      "29731.9198841026 {'max_depth': 12, 'min_samples_split': 6}\n",
      "28260.441766931497 {'max_depth': 12, 'min_samples_split': 9}\n",
      "29083.912744954137 {'max_depth': 12, 'min_samples_split': 12}\n",
      "28862.34830916725 {'max_depth': 12, 'min_samples_split': 15}\n",
      "29451.46718038189 {'max_depth': 12, 'min_samples_split': 18}\n",
      "28073.08271702635 {'max_depth': 12, 'min_samples_split': 21}\n",
      "28058.610906332084 {'max_depth': 12, 'min_samples_split': 24}\n",
      "28125.980743446355 {'max_depth': 12, 'min_samples_split': 27}\n",
      "31091.912161241005 {'max_depth': 14, 'min_samples_split': 3}\n",
      "30328.203374325145 {'max_depth': 14, 'min_samples_split': 6}\n",
      "30622.16396249035 {'max_depth': 14, 'min_samples_split': 9}\n",
      "28673.876493729254 {'max_depth': 14, 'min_samples_split': 12}\n",
      "29268.52051148808 {'max_depth': 14, 'min_samples_split': 15}\n",
      "29575.173193589115 {'max_depth': 14, 'min_samples_split': 18}\n",
      "29014.299348970897 {'max_depth': 14, 'min_samples_split': 21}\n",
      "28444.05396222088 {'max_depth': 14, 'min_samples_split': 24}\n",
      "28555.85679986635 {'max_depth': 14, 'min_samples_split': 27}\n"
     ]
    }
   ],
   "source": [
    "gbrt = GradientBoostingRegressor(n_estimators=70,learning_rate=0.1,max_features='sqrt',subsample=0.8)\n",
    "parameters = {'max_depth':range(2,16,2), 'min_samples_split':range(3,30,3)}\n",
    "gridsearch = GridSearchCV(gbrt,parameters,cv=10,scoring='neg_mean_squared_error',n_jobs=-1)\n",
    "gridsearch.fit(full_train_X,full_train_y)\n",
    "\n",
    "cvres = gridsearch.cv_results_\n",
    "for mean_score, params in zip(cvres[\"mean_test_score\"], cvres[\"params\"]):\n",
    "    print(np.sqrt(-mean_score), params)"
   ]
  },
  {
   "cell_type": "code",
   "execution_count": 121,
   "metadata": {},
   "outputs": [
    {
     "name": "stdout",
     "output_type": "stream",
     "text": [
      "27907.341716616473 {'max_features': 40}\n",
      "28941.154864234497 {'max_features': 44}\n",
      "26700.745998982027 {'max_features': 48}\n",
      "27652.722726931876 {'max_features': 52}\n",
      "26110.92846145478 {'max_features': 56}\n",
      "27929.31040580414 {'max_features': 60}\n",
      "28099.244367912364 {'max_features': 64}\n",
      "27749.920247175458 {'max_features': 68}\n",
      "28067.0546641583 {'max_features': 72}\n",
      "29428.354297234382 {'max_features': 76}\n"
     ]
    }
   ],
   "source": [
    "gbrt = GradientBoostingRegressor(n_estimators=60,learning_rate=0.1,subsample=0.8,max_depth=6,min_samples_split=21)\n",
    "parameters = {'max_features': range(40,80,4)}\n",
    "gridsearch = GridSearchCV(gbrt,parameters,cv=10,scoring='neg_mean_squared_error',n_jobs=-1)\n",
    "gridsearch.fit(full_train_X,full_train_y)\n",
    "\n",
    "cvres = gridsearch.cv_results_\n",
    "for mean_score, params in zip(cvres[\"mean_test_score\"], cvres[\"params\"]):\n",
    "    print(np.sqrt(-mean_score), params)"
   ]
  },
  {
   "cell_type": "code",
   "execution_count": 124,
   "metadata": {},
   "outputs": [
    {
     "name": "stdout",
     "output_type": "stream",
     "text": [
      "29227.653922649 {'subsample': 0.4}\n",
      "29413.847232478674 {'subsample': 0.4444444444444445}\n",
      "29573.176817859214 {'subsample': 0.48888888888888893}\n",
      "29233.61456132699 {'subsample': 0.5333333333333333}\n",
      "29518.50102154102 {'subsample': 0.5777777777777778}\n",
      "28753.732093314815 {'subsample': 0.6222222222222222}\n",
      "27078.177967852458 {'subsample': 0.6666666666666667}\n",
      "28499.02933839281 {'subsample': 0.7111111111111111}\n",
      "28706.716655583405 {'subsample': 0.7555555555555555}\n",
      "26704.562108893053 {'subsample': 0.8}\n"
     ]
    }
   ],
   "source": [
    "gbrt = GradientBoostingRegressor(n_estimators=60,learning_rate=0.1,max_depth=6,min_samples_split=21,max_features=48)\n",
    "parameters = {'subsample': np.linspace(0.4,0.8,10)}\n",
    "gridsearch = GridSearchCV(gbrt,parameters,cv=10,scoring='neg_mean_squared_error',n_jobs=-1)\n",
    "gridsearch.fit(full_train_X,full_train_y)\n",
    "\n",
    "cvres = gridsearch.cv_results_\n",
    "for mean_score, params in zip(cvres[\"mean_test_score\"], cvres[\"params\"]):\n",
    "    print(np.sqrt(-mean_score), params)"
   ]
  },
  {
   "cell_type": "code",
   "execution_count": 131,
   "metadata": {},
   "outputs": [
    {
     "name": "stdout",
     "output_type": "stream",
     "text": [
      "Average Prediction Mistake for Ordinal Dataset:  26220.08\n"
     ]
    }
   ],
   "source": [
    "from sklearn.ensemble import GradientBoostingRegressor \n",
    "gbrt = GradientBoostingRegressor(n_estimators=1000,learning_rate=0.03,max_depth=6,min_samples_split=21,max_features=48,subsample=0.8)\n",
    "scores_optimal = cross_val_score(gbrt, full_train_X,full_train_y,scoring='neg_mean_squared_error',cv=10)\n",
    "print('Average Prediction Mistake for Ordinal Dataset: ', round(np.sqrt(-scores_optimal.mean()),2))"
   ]
  },
  {
   "cell_type": "code",
   "execution_count": 134,
   "metadata": {},
   "outputs": [],
   "source": [
    "model = gbrt.fit(full_train_X,full_train_y)\n",
    "gbrt_coef_df = pd.DataFrame(data=model.feature_importances_,index=full.columns[:-1],columns=['Model Coefs'])"
   ]
  },
  {
   "cell_type": "code",
   "execution_count": 139,
   "metadata": {},
   "outputs": [
    {
     "data": {
      "image/png": "[encoded data removed]",
      "text/plain": [
       "<Figure size 864x432 with 1 Axes>"
      ]
     },
     "metadata": {
      "needs_background": "light"
     },
     "output_type": "display_data"
    }
   ],
   "source": [
    "plt.figure(figsize=(12,6))\n",
    "plt.title('Coeficents with the most positive influence on Sale Price',fontsize=14)\n",
    "gbrt_coef_df['Model Coefs'].sort_values(ascending=False)[0:20].plot(kind='bar');\n",
    "plt.xticks(rotation=45);"
   ]
  },
  {
   "cell_type": "markdown",
   "metadata": {},
   "source": [
    "### WIth Gradient Booster the RMSE seems to be around 26000"
   ]
  },
  {
   "cell_type": "code",
   "execution_count": 141,
   "metadata": {},
   "outputs": [
    {
     "name": "stdout",
     "output_type": "stream",
     "text": [
      "29080.08582923672 {}\n"
     ]
    }
   ],
   "source": [
    "import xgboost as xgb\n",
    "\n",
    "xgb_reg = xgb.XGBRegressor(objective ='reg:squarederror',seed = 123,n_estimators = 1000,learning_rate=0.1,subsample=0.8,max_depth=8)\n",
    "\n",
    "parameters = {}\n",
    "gridsearch = GridSearchCV(xgb_reg,parameters,cv=10,scoring='neg_mean_squared_error',n_jobs=-1)\n",
    "gridsearch.fit(full_train_X,full_train_y)\n",
    "\n",
    "cvres = gridsearch.cv_results_\n",
    "for mean_score, params in zip(cvres[\"mean_test_score\"], cvres[\"params\"]):\n",
    "    print(np.sqrt(-mean_score), params)\n",
    "\n"
   ]
  },
  {
   "cell_type": "code",
   "execution_count": 142,
   "metadata": {},
   "outputs": [
    {
     "name": "stdout",
     "output_type": "stream",
     "text": [
      "29329.203067133014 {'max_depth': 3, 'min_child_weight': 1}\n",
      "28897.9431518293 {'max_depth': 3, 'min_child_weight': 3}\n",
      "28695.85204367018 {'max_depth': 3, 'min_child_weight': 5}\n",
      "29418.881383043932 {'max_depth': 5, 'min_child_weight': 1}\n",
      "27792.922817282244 {'max_depth': 5, 'min_child_weight': 3}\n",
      "28982.663355465076 {'max_depth': 5, 'min_child_weight': 5}\n",
      "28830.56790709677 {'max_depth': 7, 'min_child_weight': 1}\n",
      "28617.605160030736 {'max_depth': 7, 'min_child_weight': 3}\n",
      "28554.56184399331 {'max_depth': 7, 'min_child_weight': 5}\n",
      "29421.059676285528 {'max_depth': 9, 'min_child_weight': 1}\n",
      "28939.63410531813 {'max_depth': 9, 'min_child_weight': 3}\n",
      "28629.621617097073 {'max_depth': 9, 'min_child_weight': 5}\n"
     ]
    }
   ],
   "source": [
    "xgb_reg = xgb.XGBRegressor(objective ='reg:squarederror',seed = 123,n_estimators = 100,learning_rate=0.1,subsample=0.8)\n",
    "\n",
    "parameters = {'max_depth':range(3,10,2),\n",
    " 'min_child_weight':range(1,6,2)}\n",
    "gridsearch = GridSearchCV(xgb_reg,parameters,cv=10,scoring='neg_mean_squared_error',n_jobs=-1)\n",
    "gridsearch.fit(full_train_X,full_train_y)\n",
    "\n",
    "cvres = gridsearch.cv_results_\n",
    "for mean_score, params in zip(cvres[\"mean_test_score\"], cvres[\"params\"]):\n",
    "    print(np.sqrt(-mean_score), params)\n",
    "\n"
   ]
  },
  {
   "cell_type": "code",
   "execution_count": 145,
   "metadata": {},
   "outputs": [
    {
     "name": "stdout",
     "output_type": "stream",
     "text": [
      "27792.922817282244 {'gamma': 1}\n",
      "27792.922817282244 {'gamma': 2}\n",
      "27792.922817282244 {'gamma': 3}\n",
      "27792.922817282244 {'gamma': 4}\n"
     ]
    }
   ],
   "source": [
    "xgb_reg = xgb.XGBRegressor(objective ='reg:squarederror',seed = 123,n_estimators = 100,learning_rate=0.1,subsample=0.8,max_depth=5,min_child_weight=3)\n",
    "\n",
    "parameters = {'gamma': range(1,5,1)}\n",
    "gridsearch = GridSearchCV(xgb_reg,parameters,cv=10,scoring='neg_mean_squared_error',n_jobs=-1)\n",
    "gridsearch.fit(full_train_X,full_train_y)\n",
    "\n",
    "cvres = gridsearch.cv_results_\n",
    "for mean_score, params in zip(cvres[\"mean_test_score\"], cvres[\"params\"]):\n",
    "    print(np.sqrt(-mean_score), params)\n",
    "\n"
   ]
  },
  {
   "cell_type": "code",
   "execution_count": 147,
   "metadata": {},
   "outputs": [
    {
     "name": "stdout",
     "output_type": "stream",
     "text": [
      "Average Prediction Mistake for Ordinal Dataset:  27344.8\n"
     ]
    }
   ],
   "source": [
    "xgb_reg = xgb.XGBRegressor(objective ='reg:squarederror',seed = 123,n_estimators = 1000,learning_rate=0.1,subsample=0.8,max_depth=5,min_child_weight=3)\n",
    "scores_optimal = cross_val_score(xgb_reg, full_train_X,full_train_y,scoring='neg_mean_squared_error',cv=10)\n",
    "print('Average Prediction Mistake for Ordinal Dataset: ', round(np.sqrt(-scores_optimal.mean()),2))"
   ]
  },
  {
   "cell_type": "code",
   "execution_count": 148,
   "metadata": {},
   "outputs": [
    {
     "name": "stdout",
     "output_type": "stream",
     "text": [
      "27455.670274368225 {'colsample_bytree': 0.6, 'subsample': 0.6}\n",
      "27245.60578077305 {'colsample_bytree': 0.6, 'subsample': 0.7}\n",
      "28428.634678124545 {'colsample_bytree': 0.6, 'subsample': 0.8}\n",
      "27920.5079870773 {'colsample_bytree': 0.6, 'subsample': 0.9}\n",
      "27274.75556477438 {'colsample_bytree': 0.7, 'subsample': 0.6}\n",
      "27046.02717516732 {'colsample_bytree': 0.7, 'subsample': 0.7}\n",
      "27591.226951211527 {'colsample_bytree': 0.7, 'subsample': 0.8}\n",
      "28102.220580739788 {'colsample_bytree': 0.7, 'subsample': 0.9}\n",
      "28389.509237035232 {'colsample_bytree': 0.8, 'subsample': 0.6}\n",
      "27548.19295645912 {'colsample_bytree': 0.8, 'subsample': 0.7}\n",
      "27418.060710077658 {'colsample_bytree': 0.8, 'subsample': 0.8}\n",
      "27418.11349242319 {'colsample_bytree': 0.8, 'subsample': 0.9}\n",
      "27596.071562084115 {'colsample_bytree': 0.9, 'subsample': 0.6}\n",
      "27982.01282228359 {'colsample_bytree': 0.9, 'subsample': 0.7}\n",
      "28206.7996557221 {'colsample_bytree': 0.9, 'subsample': 0.8}\n",
      "28690.3643541058 {'colsample_bytree': 0.9, 'subsample': 0.9}\n"
     ]
    }
   ],
   "source": [
    "xgb_reg = xgb.XGBRegressor(objective ='reg:squarederror',seed = 123,n_estimators = 200,learning_rate=0.1,max_depth=5,min_child_weight=3)\n",
    "\n",
    "parameters = { 'subsample':[i/10.0 for i in range(6,10)],\n",
    " 'colsample_bytree':[i/10.0 for i in range(6,10)]}\n",
    "gridsearch = GridSearchCV(xgb_reg,parameters,cv=10,scoring='neg_mean_squared_error',n_jobs=-1)\n",
    "gridsearch.fit(full_train_X,full_train_y)\n",
    "\n",
    "cvres = gridsearch.cv_results_\n",
    "for mean_score, params in zip(cvres[\"mean_test_score\"], cvres[\"params\"]):\n",
    "    print(np.sqrt(-mean_score), params)\n",
    "\n"
   ]
  },
  {
   "cell_type": "code",
   "execution_count": 151,
   "metadata": {},
   "outputs": [
    {
     "name": "stdout",
     "output_type": "stream",
     "text": [
      "26431.532806043964 {'reg_alpha': 5000}\n",
      "26941.650973553955 {'reg_alpha': 7500}\n",
      "26782.715662974904 {'reg_alpha': 10000}\n",
      "27284.919174416595 {'reg_alpha': 20000}\n"
     ]
    }
   ],
   "source": [
    "xgb_reg = xgb.XGBRegressor(objective ='reg:squarederror',seed = 123,n_estimators = 200,learning_rate=0.1,max_depth=5,min_child_weight=3,subsample=0.7,colsample_bytree=0.7)\n",
    "\n",
    "parameters = {'reg_alpha':[5000,7500,10000,20000]}\n",
    "gridsearch = GridSearchCV(xgb_reg,parameters,cv=10,scoring='neg_mean_squared_error',n_jobs=-1)\n",
    "gridsearch.fit(full_train_X,full_train_y)\n",
    "\n",
    "cvres = gridsearch.cv_results_\n",
    "for mean_score, params in zip(cvres[\"mean_test_score\"], cvres[\"params\"]):\n",
    "    print(np.sqrt(-mean_score), params)\n",
    "\n"
   ]
  },
  {
   "cell_type": "code",
   "execution_count": 155,
   "metadata": {},
   "outputs": [
    {
     "name": "stdout",
     "output_type": "stream",
     "text": [
      "Average Prediction Mistake for Ordinal Dataset:  27260.59\n"
     ]
    }
   ],
   "source": [
    "xgb_reg = xgb.XGBRegressor(objective ='reg:squarederror',seed = 123,n_estimators = 8000,learning_rate=0.02,max_depth=5,min_child_weight=3,subsample=0.7,colsample_bytree=0.7,reg_alpha=5000)\n",
    "scores_optimal = cross_val_score(xgb_reg, full_train_X,full_train_y,scoring='neg_mean_squared_error',cv=10)\n",
    "print('Average Prediction Mistake for Ordinal Dataset: ', round(np.sqrt(-scores_optimal.mean()),2))"
   ]
  },
  {
   "cell_type": "code",
   "execution_count": 160,
   "metadata": {},
   "outputs": [],
   "source": [
    "data_dmatrix = xgb.DMatrix(data=full_train_X,label=full_train_y)\n",
    "params = {'objective':'reg:squarederror',\n",
    "          'seed': 123,\n",
    "          'learning_rate':0.02,\n",
    "          'max_depth':5,\n",
    "          'min_child_weight':3,\n",
    "          'subsample':0.7,\n",
    "          'colsample_bytree':0.7,\n",
    "          'reg_alpha':5000\n",
    "         }"
   ]
  },
  {
   "cell_type": "code",
   "execution_count": 161,
   "metadata": {},
   "outputs": [
    {
     "data": {
      "text/html": [
       "<div>\n",
       "<style scoped>\n",
       "    .dataframe tbody tr th:only-of-type {\n",
       "        vertical-align: middle;\n",
       "    }\n",
       "\n",
       "    .dataframe tbody tr th {\n",
       "        vertical-align: top;\n",
       "    }\n",
       "\n",
       "    .dataframe thead th {\n",
       "        text-align: right;\n",
       "    }\n",
       "</style>\n",
       "<table border=\"1\" class=\"dataframe\">\n",
       "  <thead>\n",
       "    <tr style=\"text-align: right;\">\n",
       "      <th></th>\n",
       "      <th>train-rmse-mean</th>\n",
       "      <th>train-rmse-std</th>\n",
       "      <th>test-rmse-mean</th>\n",
       "      <th>test-rmse-std</th>\n",
       "    </tr>\n",
       "  </thead>\n",
       "  <tbody>\n",
       "    <tr>\n",
       "      <th>1409</th>\n",
       "      <td>3247.804858</td>\n",
       "      <td>161.617077</td>\n",
       "      <td>26234.637109</td>\n",
       "      <td>6660.003246</td>\n",
       "    </tr>\n",
       "    <tr>\n",
       "      <th>1410</th>\n",
       "      <td>3244.138501</td>\n",
       "      <td>161.461703</td>\n",
       "      <td>26234.560156</td>\n",
       "      <td>6660.010679</td>\n",
       "    </tr>\n",
       "    <tr>\n",
       "      <th>1411</th>\n",
       "      <td>3240.313062</td>\n",
       "      <td>161.352499</td>\n",
       "      <td>26234.571289</td>\n",
       "      <td>6660.227727</td>\n",
       "    </tr>\n",
       "    <tr>\n",
       "      <th>1412</th>\n",
       "      <td>3237.016162</td>\n",
       "      <td>160.943634</td>\n",
       "      <td>26234.428711</td>\n",
       "      <td>6659.363971</td>\n",
       "    </tr>\n",
       "    <tr>\n",
       "      <th>1413</th>\n",
       "      <td>3232.837598</td>\n",
       "      <td>160.692094</td>\n",
       "      <td>26233.276953</td>\n",
       "      <td>6659.987509</td>\n",
       "    </tr>\n",
       "  </tbody>\n",
       "</table>\n",
       "</div>"
      ],
      "text/plain": [
       "      train-rmse-mean  train-rmse-std  test-rmse-mean  test-rmse-std\n",
       "1409      3247.804858      161.617077    26234.637109    6660.003246\n",
       "1410      3244.138501      161.461703    26234.560156    6660.010679\n",
       "1411      3240.313062      161.352499    26234.571289    6660.227727\n",
       "1412      3237.016162      160.943634    26234.428711    6659.363971\n",
       "1413      3232.837598      160.692094    26233.276953    6659.987509"
      ]
     },
     "execution_count": 161,
     "metadata": {},
     "output_type": "execute_result"
    }
   ],
   "source": [
    "cv_results = xgb.cv(dtrain=data_dmatrix, params=params, num_boost_round=8000,nfold=10,early_stopping_rounds=50,metrics=\"rmse\", as_pandas=True, seed=123)\n",
    "cv_results.tail()"
   ]
  },
  {
   "cell_type": "code",
   "execution_count": 162,
   "metadata": {},
   "outputs": [
    {
     "data": {
      "image/png": "[encoded data removed]",
      "text/plain": [
       "<Figure size 432x288 with 1 Axes>"
      ]
     },
     "metadata": {
      "needs_background": "light"
     },
     "output_type": "display_data"
    }
   ],
   "source": [
    "from xgboost import plot_importance,plot_tree\n",
    "xgb_reg = xgb.XGBRegressor(objective ='reg:squarederror',seed = 123,n_estimators = 8000,learning_rate=0.02,max_depth=5,min_child_weight=3,subsample=0.7,colsample_bytree=0.7,reg_alpha=5000)\n",
    "xgb_reg.fit(full_train_X,full_train_y)\n",
    "plot_importance(xgb_reg,max_num_features=15);"
   ]
  },
  {
   "cell_type": "markdown",
   "metadata": {},
   "source": [
    "### Results on test set with Gradient Booster and XGBooster"
   ]
  },
  {
   "cell_type": "code",
   "execution_count": 163,
   "metadata": {},
   "outputs": [],
   "source": [
    "pred = xgb_reg.predict(full_test_x)"
   ]
  },
  {
   "cell_type": "code",
   "execution_count": 164,
   "metadata": {},
   "outputs": [
    {
     "data": {
      "text/plain": [
       "28421.168722882812"
      ]
     },
     "execution_count": 164,
     "metadata": {},
     "output_type": "execute_result"
    }
   ],
   "source": [
    "np.sqrt(mean_squared_error(pred,full_test_y))"
   ]
  },
  {
   "cell_type": "code",
   "execution_count": 165,
   "metadata": {},
   "outputs": [
    {
     "data": {
      "text/plain": [
       "32063.36775816719"
      ]
     },
     "execution_count": 165,
     "metadata": {},
     "output_type": "execute_result"
    }
   ],
   "source": [
    "gbrt = GradientBoostingRegressor(n_estimators=1000,learning_rate=0.03,max_depth=6,min_samples_split=21,max_features=48,subsample=0.8)\n",
    "gbrt.fit(full_train_X,full_train_y)\n",
    "pred = gbrt.predict(full_test_x)\n",
    "np.sqrt(mean_squared_error(pred,full_test_y))"
   ]
  },
  {
   "cell_type": "markdown",
   "metadata": {},
   "source": [
    "### Xgboost although with higher bias results in a model with much lower Variance than the Gradient Booster"
   ]
  }
 ],
 "metadata": {
  "kernelspec": {
   "display_name": "Python 3",
   "language": "python",
   "name": "python3"
  },
  "language_info": {
   "codemirror_mode": {
    "name": "ipython",
    "version": 3
   },
   "file_extension": ".py",
   "mimetype": "text/x-python",
   "name": "python",
   "nbconvert_exporter": "python",
   "pygments_lexer": "ipython3",
   "version": "3.8.5"
  }
 },
 "nbformat": 4,
 "nbformat_minor": 4
}
